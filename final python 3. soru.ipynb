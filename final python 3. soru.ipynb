{
 "cells": [
  {
   "cell_type": "code",
   "execution_count": null,
   "id": "f1be7f4b",
   "metadata": {},
   "outputs": [],
   "source": [
    "import pandas as pd\n",
    "from math import sqrt\n",
    "data1 = {\"X\":[1,2,2,3,4,5,6,8,10,11],\n",
    "         \"Y\":[3,5,3,9,7,2,8,6,6,1],\n",
    "         \"Z\":[\"Negatif\",\"Pozitif\",\"Pozitif\",\"Negatif\",\"Negatif\",\"Pozitif\",\"Pozitif\",\"Negatif\",\"Negatif\",\"Negatif\"]}\n",
    "df1 = pd.DataFrame(data1)\n",
    "print(df1[\"X\"])\n",
    "print(df1[\"Y\"])\n",
    "\n",
    "x=7\n",
    "y=3\n",
    "mesafe = []\n",
    "sıralama = []\n",
    "for i in range(10):\n",
    "    k = sqrt((x-df1.iloc[i,0])**2+(y-df1.iloc[i,1])**2)\n",
    "    mesafe.append(k)\n",
    "data2 = {\"X\":[1,2,2,3,4,5,6,8,10,11], \"Y\":[3,5,3,9,7,2,8,6,6,1],\"Uzaklık\":mesafe}\n",
    "df2 = pd.DataFrame(data2)\n",
    "for c in range(10):\n",
    "    z=1\n",
    "    for j in range(10):\n",
    "        if df2.iloc[c,2]>df2.iloc[j,2]:\n",
    "            z+=1\n",
    "    sıralama.append(z)\n",
    "df2[\"Sıralama\"] = sıralama    \n"
   ]
  }
 ],
 "metadata": {
  "kernelspec": {
   "display_name": "Python 3 (ipykernel)",
   "language": "python",
   "name": "python3"
  },
  "language_info": {
   "codemirror_mode": {
    "name": "ipython",
    "version": 3
   },
   "file_extension": ".py",
   "mimetype": "text/x-python",
   "name": "python",
   "nbconvert_exporter": "python",
   "pygments_lexer": "ipython3",
   "version": "3.9.13"
  }
 },
 "nbformat": 4,
 "nbformat_minor": 5
}
